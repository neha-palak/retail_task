{
 "cells": [
  {
   "cell_type": "code",
   "execution_count": 1,
   "metadata": {},
   "outputs": [],
   "source": [
    "import pandas as pd\n",
    "import numpy as np\n",
    "import matplotlib.pyplot as plt\n",
    "import seaborn as sns\n",
    "%matplotlib inline\n",
    "sns.set(style=\"whitegrid\")\n"
   ]
  },
  {
   "cell_type": "code",
   "execution_count": 2,
   "metadata": {},
   "outputs": [
    {
     "name": "stdout",
     "output_type": "stream",
     "text": [
      "Loaded Raw Dataset: /Users/nehapalak/cs3410/Jahnavi_Neha_A1/retail_task/data/Retail Raw.csv\n"
     ]
    }
   ],
   "source": [
    "data_path = '/Users/nehapalak/cs3410/Jahnavi_Neha_A1/retail_task/data/Retail Raw.csv'\n",
    "df = pd.read_csv(data_path)\n",
    "print(\"Loaded Raw Dataset:\", data_path)"
   ]
  },
  {
   "cell_type": "code",
   "execution_count": 3,
   "metadata": {},
   "outputs": [
    {
     "data": {
      "text/plain": [
       "(800000, 77)"
      ]
     },
     "execution_count": 3,
     "metadata": {},
     "output_type": "execute_result"
    }
   ],
   "source": [
    "df.shape"
   ]
  },
  {
   "cell_type": "code",
   "execution_count": 4,
   "metadata": {},
   "outputs": [
    {
     "data": {
      "text/plain": [
       "<bound method DataFrame.info of         age  gender income_bracket loyalty_program  membership_years churned  \\\n",
       "0        41  Female         Medium              No                 3      No   \n",
       "1        40  Female           High             Yes                 4     Yes   \n",
       "2        48    Male           High              No                 4     Yes   \n",
       "3        19    Male            Low              No                 9     Yes   \n",
       "4        53  Female            Low             Yes                 8      No   \n",
       "...     ...     ...            ...             ...               ...     ...   \n",
       "799995   77   Other            Low             Yes                 0     Yes   \n",
       "799996   49   Other            Low             Yes                 0      No   \n",
       "799997   20    Male         Medium             Yes                 5      No   \n",
       "799998   44   Other         Medium             Yes                 7     Yes   \n",
       "799999   70  Female         Medium              No                 9     Yes   \n",
       "\n",
       "       marital_status  number_of_children education_level     occupation  ...  \\\n",
       "0             Married                   0      Bachelor's       Employed  ...   \n",
       "1              Single                   4             PhD       Employed  ...   \n",
       "2             Married                   3      Bachelor's     Unemployed  ...   \n",
       "3            Divorced                   3      Bachelor's        Retired  ...   \n",
       "4            Divorced                   2        Master's       Employed  ...   \n",
       "...               ...                 ...             ...            ...  ...   \n",
       "799995        Married                   3             PhD  Self-Employed  ...   \n",
       "799996       Divorced                   4             PhD        Retired  ...   \n",
       "799997        Married                   4             PhD     Unemployed  ...   \n",
       "799998        Married                   3     High School     Unemployed  ...   \n",
       "799999         Single                   1        Master's       Employed  ...   \n",
       "\n",
       "        distance_to_store holiday_season  season weekend  \\\n",
       "0                   72.83             No  Summer      No   \n",
       "1                   44.60            Yes    Fall      No   \n",
       "2                   46.15            Yes  Winter     Yes   \n",
       "3                    0.62             No    Fall      No   \n",
       "4                   38.09            Yes    Fall     Yes   \n",
       "...                   ...            ...     ...     ...   \n",
       "799995              14.73             No  Spring     Yes   \n",
       "799996              54.32            Yes  Summer     Yes   \n",
       "799997              82.19             No  Winter      No   \n",
       "799998              19.19            Yes  Winter      No   \n",
       "799999              51.10             No  Winter      No   \n",
       "\n",
       "        customer_support_calls  email_subscriptions  app_usage website_visits  \\\n",
       "0                           18                   No     Medium              2   \n",
       "1                           16                  Yes        Low             17   \n",
       "2                           11                  Yes       High             68   \n",
       "3                           15                  Yes     Medium             61   \n",
       "4                            0                  Yes       High             19   \n",
       "...                        ...                  ...        ...            ...   \n",
       "799995                       1                  Yes     Medium             13   \n",
       "799996                      15                  Yes        Low             46   \n",
       "799997                       0                   No        Low             72   \n",
       "799998                      16                  Yes       High             98   \n",
       "799999                      13                   No       High              5   \n",
       "\n",
       "       social_media_engagement  days_since_last_purchase  \n",
       "0                       Medium                         6  \n",
       "1                       Medium                       137  \n",
       "2                         High                       275  \n",
       "3                          Low                       182  \n",
       "4                         High                       330  \n",
       "...                        ...                       ...  \n",
       "799995                    High                       151  \n",
       "799996                     Low                       300  \n",
       "799997                    High                       282  \n",
       "799998                     Low                       278  \n",
       "799999                     Low                       271  \n",
       "\n",
       "[800000 rows x 77 columns]>"
      ]
     },
     "execution_count": 4,
     "metadata": {},
     "output_type": "execute_result"
    }
   ],
   "source": [
    "df.info"
   ]
  }
 ],
 "metadata": {
  "kernelspec": {
   "display_name": "Python 3",
   "language": "python",
   "name": "python3"
  },
  "language_info": {
   "codemirror_mode": {
    "name": "ipython",
    "version": 3
   },
   "file_extension": ".py",
   "mimetype": "text/x-python",
   "name": "python",
   "nbconvert_exporter": "python",
   "pygments_lexer": "ipython3",
   "version": "3.9.13"
  }
 },
 "nbformat": 4,
 "nbformat_minor": 2
}
